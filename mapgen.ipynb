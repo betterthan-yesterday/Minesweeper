{
 "cells": [
  {
   "cell_type": "code",
   "execution_count": 1,
   "id": "c9c94d1d-a7ca-46e9-81e7-a51f1ebb6b43",
   "metadata": {},
   "outputs": [],
   "source": [
    "from random import randint"
   ]
  },
  {
   "cell_type": "code",
   "execution_count": 179,
   "id": "a809ad1f-b0dd-4a61-9f53-46ff26cb4e59",
   "metadata": {},
   "outputs": [],
   "source": [
    "WIDTH = 10\n",
    "HEIGHT = 10\n",
    "BOMBS= 20\n",
    "coords = [-1, 1]"
   ]
  },
  {
   "cell_type": "code",
   "execution_count": 183,
   "id": "e0e3e00c-9bf5-4bc3-a5e6-863094c17d3d",
   "metadata": {},
   "outputs": [],
   "source": [
    "def map_gen(WIDTH, HEIGHT, bomb_rem):\n",
    "    \n",
    "    map = []\n",
    "    row = []\n",
    "    \n",
    "    box_rem = WIDTH*HEIGHT\n",
    "    \n",
    "    # Random generation of bomb\n",
    "    for h in range(HEIGHT):\n",
    "        for w in range(WIDTH):\n",
    "            \n",
    "            if randint(1, box_rem) <= bomb_rem:\n",
    "                row.append(\"*\")\n",
    "                bomb_rem -= 1\n",
    "            else:\n",
    "                row.append(0)\n",
    "        \n",
    "            box_rem -= 1\n",
    "        \n",
    "        map.append(row)\n",
    "        row = []\n",
    "    \n",
    "    # Number generation\n",
    "    for i_row, row in enumerate(map):\n",
    "        for i_box, n in enumerate(row):\n",
    "            if n == \"*\":\n",
    "                for coord in coords:\n",
    "                    try:\n",
    "                        if i_box+coord >= 0:\n",
    "                            row[i_box+coord] += 1\n",
    "                    except:\n",
    "                        pass\n",
    "                    \n",
    "                for index in range(i_box-1, i_box+2):\n",
    "                    if index >= 0 and i_row-1 >= 0:\n",
    "                        try:\n",
    "                            map[i_row-1][index] += 1\n",
    "                        except:\n",
    "                            pass\n",
    "                    \n",
    "                for index in range(i_box-1, i_box+2):\n",
    "                    if index >= 0:\n",
    "                        try:\n",
    "                            map[i_row+1][index] += 1\n",
    "                        except:\n",
    "                            pass\n",
    "                    \n",
    "    return map"
   ]
  },
  {
   "cell_type": "code",
   "execution_count": 184,
   "id": "b20bc0da-b3e8-4535-ada2-0e6f38f80b68",
   "metadata": {},
   "outputs": [
    {
     "name": "stdout",
     "output_type": "stream",
     "text": [
      "['2', '*', '2', '0', '0', '0', '0', '0', '1', '1']\n",
      "['3', '*', '3', '0', '0', '0', '0', '0', '2', '*']\n",
      "['2', '*', '3', '1', '1', '0', '0', '1', '3', '*']\n",
      "['2', '2', '2', '*', '2', '1', '0', '1', '*', '2']\n",
      "['*', '2', '2', '2', '*', '1', '0', '2', '2', '2']\n",
      "['2', '*', '1', '2', '3', '3', '1', '1', '*', '1']\n",
      "['1', '1', '1', '1', '*', '*', '1', '1', '2', '2']\n",
      "['0', '1', '1', '3', '3', '3', '1', '1', '2', '*']\n",
      "['0', '1', '*', '2', '*', '2', '2', '3', '*', '3']\n",
      "['0', '1', '1', '2', '2', '*', '2', '*', '*', '2']\n"
     ]
    }
   ],
   "source": [
    "bomb_map = map_gen(WIDTH, HEIGHT, BOMBS)\n",
    "for n in bomb_map:\n",
    "    print([str(i) for i in n])"
   ]
  },
  {
   "cell_type": "code",
   "execution_count": null,
   "id": "50bbe36c-0c06-4ccc-8934-bd95329c85af",
   "metadata": {},
   "outputs": [],
   "source": [
    "d"
   ]
  }
 ],
 "metadata": {
  "kernelspec": {
   "display_name": "Python 3 (ipykernel)",
   "language": "python",
   "name": "python3"
  },
  "language_info": {
   "codemirror_mode": {
    "name": "ipython",
    "version": 3
   },
   "file_extension": ".py",
   "mimetype": "text/x-python",
   "name": "python",
   "nbconvert_exporter": "python",
   "pygments_lexer": "ipython3",
   "version": "3.9.12"
  }
 },
 "nbformat": 4,
 "nbformat_minor": 5
}
