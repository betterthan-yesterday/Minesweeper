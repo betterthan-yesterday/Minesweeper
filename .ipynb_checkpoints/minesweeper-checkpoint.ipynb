{
 "cells": [
  {
   "cell_type": "code",
   "execution_count": 1,
   "id": "f3cd9c7e",
   "metadata": {},
   "outputs": [
    {
     "name": "stdout",
     "output_type": "stream",
     "text": [
      "pygame 2.1.2 (SDL 2.0.18, Python 3.9.12)\n",
      "Hello from the pygame community. https://www.pygame.org/contribute.html\n"
     ]
    }
   ],
   "source": [
    "import pygame as pg\n",
    "from pygame.math import Vector2\n",
    "import sys\n",
    "from time import sleep\n",
    "from selenium import webdriver\n",
    "from selenium.webdriver.common.by import By"
   ]
  },
  {
   "cell_type": "code",
   "execution_count": 2,
   "id": "bf96645c",
   "metadata": {},
   "outputs": [
    {
     "data": {
      "text/plain": [
       "(5, 0)"
      ]
     },
     "execution_count": 2,
     "metadata": {},
     "output_type": "execute_result"
    }
   ],
   "source": [
    "pg.init()"
   ]
  },
  {
   "cell_type": "code",
   "execution_count": 3,
   "id": "d1438280",
   "metadata": {},
   "outputs": [],
   "source": [
    "fps = 60\n",
    "win_w = 600\n",
    "win_h = 500\n",
    "box_colour = 250, 90, 90"
   ]
  },
  {
   "cell_type": "code",
   "execution_count": 4,
   "id": "b6ce561f",
   "metadata": {},
   "outputs": [],
   "source": [
    "screen = pg.display.set_mode((win_w, win_h))\n",
    "pg.display.set_caption(\"Minesweeper\")\n",
    "\n",
    "clock = pg.time.Clock()"
   ]
  },
  {
   "cell_type": "code",
   "execution_count": 5,
   "id": "2ec55d1a-ed72-4720-b8cd-78b28fb2323a",
   "metadata": {},
   "outputs": [],
   "source": [
    "def draw_text(surface, text, size, x, y):\n",
    "    font_name = pg.font.match_font(\"lucidaconsole\")\n",
    "    font = pg.font.Font(font_name, size)\n",
    "    text_surface = font.render(text, True, (30, 30, 30))\n",
    "    text_rect = text_surface.get_rect()\n",
    "    text_rect.center = (x, y)\n",
    "    surface.blit(text_surface, text_rect)"
   ]
  },
  {
   "cell_type": "code",
   "execution_count": 6,
   "id": "089286ef",
   "metadata": {},
   "outputs": [],
   "source": [
    "class Box(pg.sprite.Sprite):\n",
    "    def __init__(self, offset_x, offset_y, colour):\n",
    "        super().__init__()\n",
    "        self.image = pg.Surface((25, 25))\n",
    "        self.image.fill(colour)\n",
    "        self.colour = colour\n",
    "        self.rect = self.image.get_rect()\n",
    "        self.opened = 0   # 0 = unopened, 1 = opened\n",
    "        self.offset_x = offset_x\n",
    "        self.offset_y = offset_y\n",
    "        \n",
    "    def update(self):\n",
    "        if self.opened:\n",
    "            self.image.set_alpha(0)\n",
    "\n",
    "        self.rect = self.image.get_rect(topleft = Vector2(self.offset_x, self.offset_y))"
   ]
  },
  {
   "cell_type": "code",
   "execution_count": 7,
   "id": "b3c98b52-8ca8-4112-9213-fea32a9250ab",
   "metadata": {},
   "outputs": [],
   "source": [
    "class MapBox(pg.sprite.Sprite):\n",
    "    def __init__(self, offset_x, offset_y, text):\n",
    "        super().__init__()\n",
    "        self.image = pg.Surface((25, 25))\n",
    "        self.image.fill((235, 235, 235))\n",
    "        self.rect = self.image.get_rect()\n",
    "        self.offset_x = offset_x\n",
    "        self.offset_y = offset_y\n",
    "        self.text = text\n",
    "        \n",
    "    def update(self):\n",
    "        self.rect = self.image.get_rect(topleft = Vector2(self.offset_x, self.offset_y))"
   ]
  },
  {
   "cell_type": "code",
   "execution_count": 8,
   "id": "2b3b683b",
   "metadata": {},
   "outputs": [],
   "source": [
    "boxes = []\n",
    "\n",
    "row = 0\n",
    "column = 0"
   ]
  },
  {
   "cell_type": "code",
   "execution_count": 9,
   "id": "e48e430e",
   "metadata": {},
   "outputs": [],
   "source": [
    "for x in range(480):\n",
    "    box = Box(row*25, column*25, box_colour)\n",
    "    \n",
    "    row += 1\n",
    "    if row == 24:\n",
    "        column += 1\n",
    "        row = 0\n",
    "        boxes.append(box)\n",
    "        continue\n",
    "    \n",
    "    if box_colour == (250, 90, 90):\n",
    "        box_colour = (250, 125, 125)\n",
    "    else:\n",
    "        box_colour = (250, 90, 90)\n",
    "        \n",
    "    boxes.append(box)"
   ]
  },
  {
   "cell_type": "code",
   "execution_count": 10,
   "id": "b86c2403",
   "metadata": {},
   "outputs": [],
   "source": [
    "box_group = pg.sprite.Group()\n",
    "for box in boxes:\n",
    "    box_group.add(box)"
   ]
  },
  {
   "cell_type": "code",
   "execution_count": 11,
   "id": "ac3884b2-c6f6-48d4-b004-dd752d6f672b",
   "metadata": {},
   "outputs": [],
   "source": [
    "valid_map = 0"
   ]
  },
  {
   "cell_type": "code",
   "execution_count": 12,
   "id": "4b2cb896",
   "metadata": {},
   "outputs": [
    {
     "ename": "error",
     "evalue": "video system not initialized",
     "output_type": "error",
     "traceback": [
      "\u001b[0;31m---------------------------------------------------------------------------\u001b[0m",
      "\u001b[0;31merror\u001b[0m                                     Traceback (most recent call last)",
      "Input \u001b[0;32mIn [12]\u001b[0m, in \u001b[0;36m<cell line: 3>\u001b[0;34m()\u001b[0m\n\u001b[1;32m     17\u001b[0m                 box\u001b[38;5;241m.\u001b[39mopened \u001b[38;5;241m=\u001b[39m \u001b[38;5;241m1\u001b[39m\n\u001b[1;32m     19\u001b[0m \u001b[38;5;28;01mfor\u001b[39;00m box \u001b[38;5;129;01min\u001b[39;00m boxes:\n\u001b[0;32m---> 20\u001b[0m     \u001b[38;5;28;01mif\u001b[39;00m box\u001b[38;5;241m.\u001b[39mrect\u001b[38;5;241m.\u001b[39mcollidepoint(\u001b[43mpg\u001b[49m\u001b[38;5;241;43m.\u001b[39;49m\u001b[43mmouse\u001b[49m\u001b[38;5;241;43m.\u001b[39;49m\u001b[43mget_pos\u001b[49m\u001b[43m(\u001b[49m\u001b[43m)\u001b[49m) \u001b[38;5;129;01mand\u001b[39;00m box\u001b[38;5;241m.\u001b[39mopened \u001b[38;5;241m==\u001b[39m \u001b[38;5;241m0\u001b[39m:\n\u001b[1;32m     21\u001b[0m         box\u001b[38;5;241m.\u001b[39mimage\u001b[38;5;241m.\u001b[39mfill((\u001b[38;5;241m255\u001b[39m, \u001b[38;5;241m200\u001b[39m, \u001b[38;5;241m200\u001b[39m))\n\u001b[1;32m     22\u001b[0m     \u001b[38;5;28;01melse\u001b[39;00m:\n",
      "\u001b[0;31merror\u001b[0m: video system not initialized"
     ]
    }
   ],
   "source": [
    "while True:\n",
    "    \n",
    "    screen.fill(\"black\")\n",
    "\n",
    "    keys = pg.key.get_pressed()\n",
    "    if keys[pg.K_ESCAPE]:\n",
    "        pg.quit()\n",
    "        exit()\n",
    "    \n",
    "    for event in pg.event.get():\n",
    "        if event.type == pg.QUIT: \n",
    "            pg.quit()\n",
    "            exit()\n",
    "        if event.type == pg.MOUSEBUTTONUP:\n",
    "            for box in boxes:\n",
    "                if box.rect.collidepoint(pg.mouse.get_pos()):\n",
    "                    box.opened = 1\n",
    "        \n",
    "    for box in boxes:\n",
    "        if box.rect.collidepoint(pg.mouse.get_pos()) and box.opened == 0:\n",
    "            box.image.fill((255, 200, 200))\n",
    "        else:\n",
    "            box.image.fill(box.colour)\n",
    "    \n",
    "    box_group.update()\n",
    "    box_group.draw(screen)\n",
    "        \n",
    "    clock.tick(fps) \n",
    "    pg.display.flip()\n",
    "\n"
   ]
  }
 ],
 "metadata": {
  "kernelspec": {
   "display_name": "Python 3 (ipykernel)",
   "language": "python",
   "name": "python3"
  },
  "language_info": {
   "codemirror_mode": {
    "name": "ipython",
    "version": 3
   },
   "file_extension": ".py",
   "mimetype": "text/x-python",
   "name": "python",
   "nbconvert_exporter": "python",
   "pygments_lexer": "ipython3",
   "version": "3.9.12"
  }
 },
 "nbformat": 4,
 "nbformat_minor": 5
}
