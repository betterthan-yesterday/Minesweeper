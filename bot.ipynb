{
 "cells": [
  {
   "cell_type": "code",
   "execution_count": 31,
   "id": "57ac4e40-771d-4d4f-91b1-79c51425dae4",
   "metadata": {},
   "outputs": [],
   "source": [
    "from time import sleep\n",
    "from selenium import webdriver\n",
    "\n",
    "browser = webdriver.Chrome()\n",
    "browser.get(\"https://danq.me/minesweeper/\")\n",
    "\n",
    "sleep(1)\n",
    "\n",
    "columns = browser.find_element(By.ID, \"cols\")\n",
    "columns.clear()\n",
    "columns.send_keys(24)\n",
    "\n",
    "rows = browser.find_element(By.ID, \"rows\")\n",
    "rows.clear()\n",
    "rows.send_keys(20)\n",
    "\n",
    "mines = browser.find_element(By.ID, \"mines\")\n",
    "mines.clear()\n",
    "mines.send_keys(99)\n",
    "\n",
    "browser.find_element(By.ID, \"generate\").click()\n",
    "\n",
    "sleep(5)\n",
    "\n",
    "browser.close()"
   ]
  },
  {
   "cell_type": "code",
   "execution_count": null,
   "id": "855cebdd-9aa7-4b14-bace-767639b73b71",
   "metadata": {},
   "outputs": [],
   "source": []
  },
  {
   "cell_type": "code",
   "execution_count": null,
   "id": "6436ec53-77e8-420a-8aeb-5da6321a9f15",
   "metadata": {},
   "outputs": [],
   "source": []
  }
 ],
 "metadata": {
  "kernelspec": {
   "display_name": "Python 3 (ipykernel)",
   "language": "python",
   "name": "python3"
  },
  "language_info": {
   "codemirror_mode": {
    "name": "ipython",
    "version": 3
   },
   "file_extension": ".py",
   "mimetype": "text/x-python",
   "name": "python",
   "nbconvert_exporter": "python",
   "pygments_lexer": "ipython3",
   "version": "3.9.12"
  }
 },
 "nbformat": 4,
 "nbformat_minor": 5
}
