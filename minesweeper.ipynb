{
 "cells": [
  {
   "cell_type": "code",
   "execution_count": 1,
   "id": "f3cd9c7e",
   "metadata": {},
   "outputs": [
    {
     "name": "stdout",
     "output_type": "stream",
     "text": [
      "pygame 2.1.2 (SDL 2.0.18, Python 3.9.12)\n",
      "Hello from the pygame community. https://www.pygame.org/contribute.html\n"
     ]
    }
   ],
   "source": [
    "import pygame as pg\n",
    "import sys"
   ]
  },
  {
   "cell_type": "code",
   "execution_count": 2,
   "id": "bf96645c",
   "metadata": {},
   "outputs": [
    {
     "data": {
      "text/plain": [
       "(5, 0)"
      ]
     },
     "execution_count": 2,
     "metadata": {},
     "output_type": "execute_result"
    }
   ],
   "source": [
    "pg.init()"
   ]
  },
  {
   "cell_type": "code",
   "execution_count": 3,
   "id": "d1438280",
   "metadata": {},
   "outputs": [],
   "source": [
    "fps = 60\n",
    "win_w = 800\n",
    "win_h = 600"
   ]
  },
  {
   "cell_type": "code",
   "execution_count": 4,
   "id": "b6ce561f",
   "metadata": {},
   "outputs": [],
   "source": [
    "screen = pg.display.set_mode((win_w, win_h))\n",
    "pg.display.set_caption(\"Hello World\")\n",
    "\n",
    "clock = pg.time.Clock()"
   ]
  },
  {
   "cell_type": "code",
   "execution_count": 5,
   "id": "089286ef",
   "metadata": {},
   "outputs": [],
   "source": [
    "class Rect:\n",
    "    def __init__(self):\n",
    "        self.position = (30, 90)\n",
    "        self.size = (40, 40)\n",
    "        self.rect = pg.Rect(self.position, self.size)\n",
    "        self.colour = pg.Color(\"red\")\n",
    "        "
   ]
  },
  {
   "cell_type": "code",
   "execution_count": 6,
   "id": "e48e430e",
   "metadata": {},
   "outputs": [],
   "source": [
    "rect = Rect()"
   ]
  },
  {
   "cell_type": "code",
   "execution_count": 7,
   "id": "4b2cb896",
   "metadata": {},
   "outputs": [
    {
     "ename": "TypeError",
     "evalue": "argument 1 must be pygame.Surface, not Rect",
     "output_type": "error",
     "traceback": [
      "\u001b[0;31m---------------------------------------------------------------------------\u001b[0m",
      "\u001b[0;31mTypeError\u001b[0m                                 Traceback (most recent call last)",
      "Input \u001b[0;32mIn [7]\u001b[0m, in \u001b[0;36m<cell line: 3>\u001b[0;34m()\u001b[0m\n\u001b[1;32m     10\u001b[0m clock\u001b[38;5;241m.\u001b[39mtick(fps) \n\u001b[1;32m     11\u001b[0m pg\u001b[38;5;241m.\u001b[39mdisplay\u001b[38;5;241m.\u001b[39mupdate()\n\u001b[0;32m---> 13\u001b[0m \u001b[43mscreen\u001b[49m\u001b[38;5;241;43m.\u001b[39;49m\u001b[43mblit\u001b[49m\u001b[43m(\u001b[49m\u001b[43mrect\u001b[49m\u001b[43m)\u001b[49m\n",
      "\u001b[0;31mTypeError\u001b[0m: argument 1 must be pygame.Surface, not Rect"
     ]
    }
   ],
   "source": [
    "while True:\n",
    "\n",
    "    screen.fill((53, 43, 111))\n",
    "\n",
    "    for event in pg.event.get():\n",
    "        if event.type == pg.QUIT: \n",
    "            pg.quit()\n",
    "            exit()\n",
    "\n",
    "    clock.tick(fps) \n",
    "    pg.display.update()\n",
    "\n",
    "    screen.blit(rect)"
   ]
  }
 ],
 "metadata": {
  "kernelspec": {
   "display_name": "Python 3 (ipykernel)",
   "language": "python",
   "name": "python3"
  },
  "language_info": {
   "codemirror_mode": {
    "name": "ipython",
    "version": 3
   },
   "file_extension": ".py",
   "mimetype": "text/x-python",
   "name": "python",
   "nbconvert_exporter": "python",
   "pygments_lexer": "ipython3",
   "version": "3.9.12"
  }
 },
 "nbformat": 4,
 "nbformat_minor": 5
}
