{
 "cells": [
  {
   "cell_type": "code",
   "execution_count": 1,
   "id": "f3cd9c7e",
   "metadata": {},
   "outputs": [
    {
     "name": "stdout",
     "output_type": "stream",
     "text": [
      "pygame 2.1.2 (SDL 2.0.18, Python 3.9.12)\n",
      "Hello from the pygame community. https://www.pygame.org/contribute.html\n"
     ]
    }
   ],
   "source": [
    "import pygame as pg\n",
    "from pygame.math import Vector2\n",
    "import sys\n",
    "from time import sleep\n",
    "from random import randint"
   ]
  },
  {
   "cell_type": "code",
   "execution_count": 2,
   "id": "bf96645c",
   "metadata": {},
   "outputs": [
    {
     "data": {
      "text/plain": [
       "(5, 0)"
      ]
     },
     "execution_count": 2,
     "metadata": {},
     "output_type": "execute_result"
    }
   ],
   "source": [
    "pg.init()"
   ]
  },
  {
   "cell_type": "code",
   "execution_count": 3,
   "id": "d1438280",
   "metadata": {},
   "outputs": [],
   "source": [
    "fps = 24\n",
    "win_w = 600\n",
    "win_h = 500\n",
    "\n",
    "game_w = 24\n",
    "game_h = 20\n",
    "bombs = 99\n",
    "coords = [-1, 1]\n",
    "\n",
    "box_colour = 250, 90, 90\n",
    "mbox_colour = 235, 235, 235"
   ]
  },
  {
   "cell_type": "code",
   "execution_count": 4,
   "id": "b6ce561f",
   "metadata": {},
   "outputs": [],
   "source": [
    "screen = pg.display.set_mode((win_w, win_h))\n",
    "pg.display.set_caption(\"Minesweeper\")\n",
    "\n",
    "clock = pg.time.Clock()"
   ]
  },
  {
   "cell_type": "code",
   "execution_count": 5,
   "id": "2ec55d1a-ed72-4720-b8cd-78b28fb2323a",
   "metadata": {},
   "outputs": [],
   "source": [
    "def draw_text(surface, text, size, x, y):\n",
    "    # font_name = pg.font.match_font(\"Apple Color Emoji\")\n",
    "    font = pg.font.Font(None, size)\n",
    "    text_surface = font.render(text, True, (30, 30, 30))\n",
    "    text_rect = text_surface.get_rect()\n",
    "    text_rect.center = (x, y)\n",
    "    surface.blit(text_surface, text_rect)"
   ]
  },
  {
   "cell_type": "code",
   "execution_count": 6,
   "id": "e86317e8-8d90-44de-80b9-d7dce90d20b3",
   "metadata": {},
   "outputs": [],
   "source": [
    "def map_gen(WIDTH, HEIGHT, bomb_rem):\n",
    "    \n",
    "    map = []\n",
    "    row = []\n",
    "    \n",
    "    box_rem = WIDTH*HEIGHT\n",
    "    \n",
    "    # Random generation of bomb\n",
    "    for h in range(HEIGHT):\n",
    "        for w in range(WIDTH):\n",
    "            \n",
    "            if randint(1, box_rem) <= bomb_rem:\n",
    "                row.append(\"\\U0001f4a3\")\n",
    "                bomb_rem -= 1\n",
    "            else:\n",
    "                row.append(0)\n",
    "        \n",
    "            box_rem -= 1\n",
    "        \n",
    "        map.append(row)\n",
    "        row = []\n",
    "    \n",
    "    # Number generation\n",
    "    for i_row, row in enumerate(map):\n",
    "        for i_box, n in enumerate(row):\n",
    "            if n == \"\\U0001f4a3\":\n",
    "                for coord in coords:\n",
    "                    try:\n",
    "                        if i_box+coord >= 0:\n",
    "                            row[i_box+coord] += 1\n",
    "                    except:\n",
    "                        pass\n",
    "                    \n",
    "                for index in range(i_box-1, i_box+2):\n",
    "                    if index >= 0 and i_row-1 >= 0:\n",
    "                        try:\n",
    "                            map[i_row-1][index] += 1\n",
    "                        except:\n",
    "                            pass\n",
    "                    \n",
    "                for index in range(i_box-1, i_box+2):\n",
    "                    if index >= 0:\n",
    "                        try:\n",
    "                            map[i_row+1][index] += 1\n",
    "                        except:\n",
    "                            pass\n",
    "                    \n",
    "    return map"
   ]
  },
  {
   "cell_type": "code",
   "execution_count": 7,
   "id": "089286ef",
   "metadata": {},
   "outputs": [],
   "source": [
    "class Box(pg.sprite.Sprite):\n",
    "    def __init__(self, offset_x, offset_y, colour, text):\n",
    "        super().__init__()\n",
    "        self.image = pg.Surface((25, 25))\n",
    "        self.image.fill(colour)\n",
    "        self.colour = colour\n",
    "        self.rect = self.image.get_rect()\n",
    "        self.offset_x = offset_x\n",
    "        self.offset_y = offset_y\n",
    "        self.opened = 0\n",
    "        if text == \"0\":\n",
    "            self.text = \" \"\n",
    "        else:\n",
    "            self.text = text\n",
    "        \n",
    "    def update(self):\n",
    "        \n",
    "        if self.opened == 1:\n",
    "            \n",
    "            if self.colour == (250, 90, 90):\n",
    "                self.image.fill((230, 230, 230))\n",
    "            else:\n",
    "                self.image.fill((250, 250, 250))\n",
    "            \n",
    "            draw_text(self.image, self.text, 13, 12.5, 12.5)\n",
    "                \n",
    "        self.rect = self.image.get_rect(topleft = Vector2(self.offset_x, self.offset_y))"
   ]
  },
  {
   "cell_type": "code",
   "execution_count": 8,
   "id": "b3c98b52-8ca8-4112-9213-fea32a9250ab",
   "metadata": {},
   "outputs": [],
   "source": [
    "class MapBox(pg.sprite.Sprite):\n",
    "    def __init__(self, offset_x, offset_y, colour, text):\n",
    "        super().__init__()\n",
    "        self.image = pg.Surface((25, 25))\n",
    "        self.image.fill(colour)\n",
    "        self.rect = self.image.get_rect()\n",
    "        self.offset_x = offset_x\n",
    "        self.offset_y = offset_y\n",
    "        if text == \"0\":\n",
    "            self.text = \" \"\n",
    "        else:\n",
    "            self.text = text\n",
    "        \n",
    "    def update(self):\n",
    "        self.rect = self.image.get_rect(topleft = Vector2(self.offset_x, self.offset_y))\n",
    "        draw_text(self.image, self.text, 12, 12.5, 12.5)"
   ]
  },
  {
   "cell_type": "code",
   "execution_count": 9,
   "id": "2b3b683b",
   "metadata": {},
   "outputs": [
    {
     "name": "stdout",
     "output_type": "stream",
     "text": [
      "[1, '💣', 3, '💣', 4, '💣', 1, 0, 1, '💣', 1, 0, 1, 1, 1, 0, 0, 1, 2, 2, 2, 2, '💣', 1]\n",
      "[1, 1, 4, '💣', '💣', 2, 2, 1, 3, 2, 2, 0, 1, '💣', 1, 0, 1, 2, '💣', '💣', 4, '💣', 3, 1]\n",
      "[1, 2, 4, '💣', 5, 2, 1, '💣', 3, '💣', 2, 2, 2, 2, 1, 0, 1, '💣', 3, 3, '💣', '💣', 3, 1]\n",
      "['💣', 4, '💣', '💣', '💣', 2, 2, 2, '💣', 3, '💣', 3, '💣', 1, 1, 2, 4, 3, 2, 1, 2, 3, 4, '💣']\n",
      "[2, '💣', '💣', 4, 3, '💣', 1, 1, 1, 2, 2, '💣', 2, 2, 2, '💣', '💣', '💣', 1, 0, 0, 1, '💣', '💣']\n",
      "[2, 3, 2, 1, 1, 2, 2, 1, 0, 1, 2, 2, 1, 1, '💣', 3, 3, 2, 1, 0, 0, 2, 4, 4]\n",
      "['💣', 1, 0, 0, 0, 1, '💣', 1, 1, 2, '💣', 1, 0, 1, 1, 1, 1, 2, 3, 2, 1, 1, '💣', '💣']\n",
      "[2, 2, 0, 0, 1, 2, 2, 1, 2, '💣', 3, 1, 0, 0, 0, 0, 1, '💣', '💣', '💣', 2, 1, 2, 2]\n",
      "['💣', 2, 1, 1, 1, '💣', 1, 0, 2, '💣', 2, 1, 1, 1, 0, 0, 1, 2, 4, '💣', 3, 1, 1, 1]\n",
      "[1, 2, '💣', 1, 1, 1, 1, 0, 1, 1, 1, 1, '💣', 1, 1, 1, 1, 1, 3, 4, '💣', 1, 1, '💣']\n",
      "[0, 2, 2, 2, 0, 1, 1, 1, 1, 1, 1, 2, 2, 2, 1, '💣', 1, 2, '💣', '💣', 2, 1, 2, 2]\n",
      "[0, 1, '💣', 1, 1, 2, '💣', 1, 1, '💣', 1, 2, '💣', 2, 2, 2, 3, 3, '💣', 3, 1, 0, 1, '💣']\n",
      "[1, 2, 1, 1, 1, '💣', 2, 1, 1, 1, 1, 2, '💣', 3, 2, '💣', 2, '💣', 2, 1, 0, 0, 2, 2]\n",
      "['💣', 1, 0, 1, 2, 2, 2, 1, 1, 0, 1, 2, 2, 2, '💣', 2, 2, 1, 1, 1, 1, 1, 1, '💣']\n",
      "[3, 3, 2, 2, '💣', 1, 1, '💣', 1, 0, 1, '💣', 1, 2, 2, 2, 0, 1, 1, 2, '💣', 1, 1, 1]\n",
      "['💣', '💣', 2, '💣', 2, 1, 1, 2, 2, 1, 1, 1, 1, 1, '💣', 2, 2, 2, '💣', 3, 2, 2, 0, 0]\n",
      "[3, 4, 5, 4, 4, 2, 2, 2, '💣', 3, 3, 2, 1, 1, 2, '💣', 3, '💣', 3, 2, '💣', 1, 0, 0]\n",
      "[1, '💣', '💣', '💣', '💣', '💣', 2, '💣', 3, '💣', '💣', '💣', 2, 1, 2, 1, 3, '💣', 2, 2, 3, 3, 1, 0]\n",
      "[1, 2, 3, 3, 3, 3, 3, 2, 3, 3, 5, 3, 4, '💣', 2, 0, 1, 1, 1, 1, '💣', '💣', 2, 1]\n",
      "[0, 0, 0, 0, 0, 1, '💣', 1, 1, '💣', 2, '💣', 3, '💣', 2, 0, 0, 0, 0, 1, 2, 2, 2, '💣']\n"
     ]
    }
   ],
   "source": [
    "mboxes = []\n",
    "boxes = []\n",
    "\n",
    "map = map_gen(game_w, game_h, bombs)\n",
    "for x in map: print(x)\n",
    "\n",
    "row = 0\n",
    "column = 0"
   ]
  },
  {
   "cell_type": "code",
   "execution_count": 10,
   "id": "e48e430e",
   "metadata": {},
   "outputs": [],
   "source": [
    "for x in range(480):\n",
    "    box = Box(column*25, row*25, box_colour, str(map[row][column]))\n",
    "    \n",
    "    column += 1\n",
    "    if column == 24:\n",
    "        row += 1\n",
    "        column = 0\n",
    "        boxes.append(box)\n",
    "        continue\n",
    "    \n",
    "    # if mbox_colour == (235, 235, 235):\n",
    "    #     mbox_colour = (250, 250, 250)\n",
    "    # else:\n",
    "    #     mbox_colour = (235, 235, 235)\n",
    "        \n",
    "    if box_colour == (250, 90, 90):\n",
    "        box_colour = (250, 125, 125)\n",
    "    else:\n",
    "        box_colour = (250, 90, 90)\n",
    "\n",
    "    # mboxes.append(mbox)\n",
    "    boxes.append(box)"
   ]
  },
  {
   "cell_type": "code",
   "execution_count": 11,
   "id": "b86c2403",
   "metadata": {},
   "outputs": [],
   "source": [
    "# mbox_group = pg.sprite.Group()\n",
    "# for mbox in mboxes:\n",
    "#     mbox_group.add(mbox)\n",
    "    \n",
    "box_group = pg.sprite.Group()\n",
    "for box in boxes:\n",
    "    box_group.add(box)"
   ]
  },
  {
   "cell_type": "code",
   "execution_count": 12,
   "id": "ac3884b2-c6f6-48d4-b004-dd752d6f672b",
   "metadata": {},
   "outputs": [],
   "source": [
    "valid_map = 0"
   ]
  },
  {
   "cell_type": "code",
   "execution_count": null,
   "id": "4b2cb896",
   "metadata": {},
   "outputs": [],
   "source": [
    "while True:\n",
    "    global map\n",
    "    screen.fill(\"black\")\n",
    "\n",
    "    keys = pg.key.get_pressed()\n",
    "    if keys[pg.K_ESCAPE]:\n",
    "        pg.quit()\n",
    "        exit()\n",
    "    \n",
    "    for event in pg.event.get():\n",
    "        if event.type == pg.QUIT: \n",
    "            pg.quit()\n",
    "            exit()\n",
    "        if event.type == pg.MOUSEBUTTONUP:\n",
    "            for box in boxes:\n",
    "                if box.rect.collidepoint(pg.mouse.get_pos()):\n",
    "                    box.opened = 1\n",
    "                    # offset_x, offset_y, index = box.offset_x, box.offset_y, box.index\n",
    "                    # if box.colour == (250, 90, 90):\n",
    "                    #     colour = mbox_colour = (250, 250, 250)\n",
    "                    # else: colour = (235, 235, 235)\n",
    "                    # box = MapBox(offset_x, offset_y, colour, map[2])\n",
    "        \n",
    "    for box in boxes:\n",
    "        if box.rect.collidepoint(pg.mouse.get_pos()) and box.opened == 0:\n",
    "            box.image.fill((255, 200, 200))\n",
    "        else:\n",
    "            box.image.fill(box.colour)\n",
    "    \n",
    "    # mbox_group.update()\n",
    "    # mbox_group.draw(screen)\n",
    "    \n",
    "    box_group.update()\n",
    "    box_group.draw(screen)\n",
    "        \n",
    "    clock.tick(fps) \n",
    "    pg.display.flip()\n"
   ]
  }
 ],
 "metadata": {
  "kernelspec": {
   "display_name": "Python 3 (ipykernel)",
   "language": "python",
   "name": "python3"
  },
  "language_info": {
   "codemirror_mode": {
    "name": "ipython",
    "version": 3
   },
   "file_extension": ".py",
   "mimetype": "text/x-python",
   "name": "python",
   "nbconvert_exporter": "python",
   "pygments_lexer": "ipython3",
   "version": "3.9.12"
  }
 },
 "nbformat": 4,
 "nbformat_minor": 5
}
