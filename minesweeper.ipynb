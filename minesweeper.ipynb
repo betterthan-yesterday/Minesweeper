{
 "cells": [
  {
   "cell_type": "code",
   "execution_count": 1,
   "id": "f3cd9c7e",
   "metadata": {},
   "outputs": [
    {
     "name": "stdout",
     "output_type": "stream",
     "text": [
      "pygame 2.1.2 (SDL 2.0.18, Python 3.9.12)\n",
      "Hello from the pygame community. https://www.pygame.org/contribute.html\n"
     ]
    }
   ],
   "source": [
    "import pygame as pg\n",
    "import sys"
   ]
  },
  {
   "cell_type": "code",
   "execution_count": 2,
   "id": "bf96645c",
   "metadata": {},
   "outputs": [
    {
     "data": {
      "text/plain": [
       "(5, 0)"
      ]
     },
     "execution_count": 2,
     "metadata": {},
     "output_type": "execute_result"
    }
   ],
   "source": [
    "pg.init()"
   ]
  },
  {
   "cell_type": "code",
   "execution_count": 3,
   "id": "d1438280",
   "metadata": {},
   "outputs": [],
   "source": [
    "fps = 60\n",
    "win_w = 800\n",
    "win_h = 600"
   ]
  },
  {
   "cell_type": "code",
   "execution_count": 4,
   "id": "b6ce561f",
   "metadata": {},
   "outputs": [],
   "source": [
    "screen = pg.display.set_mode((win_w, win_h))\n",
    "pg.display.set_caption(\"Minesweeper\")\n",
    "\n",
    "clock = pg.time.Clock()"
   ]
  },
  {
   "cell_type": "code",
   "execution_count": 5,
   "id": "089286ef",
   "metadata": {},
   "outputs": [],
   "source": [
    "class Agent(pg.sprite.Sprite):\n",
    "    def __init__(self):\n",
    "        super().__init__()\n",
    "        self.image = pg.Surface((8.5, 100))\n",
    "        self.image.fill(\"green\")\n",
    "        self.rect = self.image.get_rect()\n",
    "        self.offset_x = 0\n",
    "        self.offset_y = 0\n",
    "        \n",
    "    def update(self):\n",
    "        self.rect = self.offset_x, self.offset_y"
   ]
  },
  {
   "cell_type": "code",
   "execution_count": 6,
   "id": "e48e430e",
   "metadata": {},
   "outputs": [],
   "source": [
    "obj = Agent()\n",
    "vel = 10"
   ]
  },
  {
   "cell_type": "code",
   "execution_count": 7,
   "id": "b86c2403",
   "metadata": {},
   "outputs": [],
   "source": [
    "all_sprites = pg.sprite.Group()"
   ]
  },
  {
   "cell_type": "code",
   "execution_count": 8,
   "id": "d6de2dcc",
   "metadata": {},
   "outputs": [],
   "source": [
    "all_sprites.add(obj)"
   ]
  },
  {
   "cell_type": "code",
   "execution_count": 9,
   "id": "4b2cb896",
   "metadata": {},
   "outputs": [
    {
     "ename": "error",
     "evalue": "video system not initialized",
     "output_type": "error",
     "traceback": [
      "\u001b[0;31m---------------------------------------------------------------------------\u001b[0m",
      "\u001b[0;31merror\u001b[0m                                     Traceback (most recent call last)",
      "Input \u001b[0;32mIn [9]\u001b[0m, in \u001b[0;36m<cell line: 3>\u001b[0;34m()\u001b[0m\n\u001b[1;32m      7\u001b[0m         pg\u001b[38;5;241m.\u001b[39mquit()\n\u001b[1;32m      8\u001b[0m         exit()\n\u001b[0;32m---> 10\u001b[0m keys \u001b[38;5;241m=\u001b[39m \u001b[43mpg\u001b[49m\u001b[38;5;241;43m.\u001b[39;49m\u001b[43mkey\u001b[49m\u001b[38;5;241;43m.\u001b[39;49m\u001b[43mget_pressed\u001b[49m\u001b[43m(\u001b[49m\u001b[43m)\u001b[49m\n\u001b[1;32m     11\u001b[0m \u001b[38;5;28;01mif\u001b[39;00m keys[pg\u001b[38;5;241m.\u001b[39mK_ESCAPE]:\n\u001b[1;32m     12\u001b[0m     pg\u001b[38;5;241m.\u001b[39mquit()\n",
      "\u001b[0;31merror\u001b[0m: video system not initialized"
     ]
    }
   ],
   "source": [
    "while True:\n",
    "    \n",
    "    screen.fill(\"red\")\n",
    "\n",
    "    for event in pg.event.get():\n",
    "        if event.type == pg.QUIT: \n",
    "            pg.quit()\n",
    "            exit()\n",
    "            \n",
    "    keys = pg.key.get_pressed()\n",
    "    if keys[pg.K_ESCAPE]:\n",
    "        pg.quit()\n",
    "        exit()\n",
    "        \n",
    "    if keys[pg.K_RIGHT]:\n",
    "        obj.offset_x += 1\n",
    "    if keys[pg.K_LEFT]:\n",
    "        obj.offset_x -= 1\n",
    "    if keys[pg.K_DOWN]:\n",
    "        obj.offset_y += 1\n",
    "    if keys[pg.K_UP]:\n",
    "        obj.offset_y -= 1\n",
    "\n",
    "    all_sprites.update()\n",
    "    all_sprites.draw(screen)\n",
    "    \n",
    "    clock.tick(fps) \n",
    "    pg.display.flip()\n",
    "\n"
   ]
  },
  {
   "cell_type": "code",
   "execution_count": null,
   "id": "96b69866",
   "metadata": {},
   "outputs": [],
   "source": []
  },
  {
   "cell_type": "code",
   "execution_count": null,
   "id": "948eab72",
   "metadata": {},
   "outputs": [],
   "source": []
  }
 ],
 "metadata": {
  "kernelspec": {
   "display_name": "Python 3 (ipykernel)",
   "language": "python",
   "name": "python3"
  },
  "language_info": {
   "codemirror_mode": {
    "name": "ipython",
    "version": 3
   },
   "file_extension": ".py",
   "mimetype": "text/x-python",
   "name": "python",
   "nbconvert_exporter": "python",
   "pygments_lexer": "ipython3",
   "version": "3.9.12"
  }
 },
 "nbformat": 4,
 "nbformat_minor": 5
}
